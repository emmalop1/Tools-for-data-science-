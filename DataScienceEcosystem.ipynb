{
 "cells": [
  {
   "cell_type": "markdown",
   "metadata": {},
   "source": [
    "<center>\n",
    "    <img src=\"https://cf-courses-data.s3.us.cloud-object-storage.appdomain.cloud/IBMDeveloperSkillsNetwork-DS0105EN-SkillsNetwork/labs/Module2/images/SN_web_lightmode.png\" width=\"300\" alt=\"cognitiveclass.ai logo\">\n",
    "</center>\n"
   ]
  },
  {
   "cell_type": "code",
   "execution_count": 1,
   "metadata": {
    "tags": []
   },
   "outputs": [
    {
     "ename": "SyntaxError",
     "evalue": "invalid syntax (3562510891.py, line 7)",
     "output_type": "error",
     "traceback": [
      "\u001b[0;36m  File \u001b[0;32m\"/tmp/ipykernel_386/3562510891.py\"\u001b[0;36m, line \u001b[0;32m7\u001b[0m\n\u001b[0;31m    This notebook provides an overview of various tools and techniques used in Data Science.\u001b[0m\n\u001b[0m                ^\u001b[0m\n\u001b[0;31mSyntaxError\u001b[0m\u001b[0;31m:\u001b[0m invalid syntax\n"
     ]
    }
   ],
   "source": [
    "markdown\n",
    "# DataScienceEcosystem\n",
    "\n",
    "\n",
    "markdown\n",
    "## Introduction\n",
    "This notebook provides an overview of various tools and techniques used in Data Science.\n",
    "\n",
    "\n",
    "markdown\n",
    "## Data Science Languages\n",
    "- Python\n",
    "- R\n",
    "- SQL\n",
    "- Julia\n",
    "- Scala\n",
    "\n",
    "\n",
    "markdown\n",
    "## Data Science Libraries\n",
    "- NumPy\n",
    "- Pandas\n",
    "- Matplotlib\n",
    "- SciPy\n",
    "- Scikit-learn\n",
    "- TensorFlow\n",
    "- Keras\n",
    "\n",
    "\n",
    "markdown\n",
    "## Data Science Tools\n",
    "| Tool           | Description                                         |\n",
    "|----------------|-----------------------------------------------------|\n",
    "| Jupyter Notebook | Interactive computing environment                  |\n",
    "| RStudio        | IDE for R                                            |\n",
    "| Apache Spark   | Cluster-computing framework                          |\n",
    "| TensorFlow     | Machine learning framework                           |\n",
    "| RapidMiner     | Data science platform for analytics                  |\n",
    "\n",
    "\n",
    "markdown\n",
    "## Arithmetic Expression Examples\n",
    "Examples of basic arithmetic operations such as addition, subtraction, multiplication, and division.\n",
    "\n",
    "\n",
    "python\n",
    "# Multiplication and addition\n",
    "result = (3 * 4) + 5\n",
    "result\n",
    "\n",
    "\n",
    "python\n",
    "# Conversion from minutes to hours\n",
    "minutes = 120\n",
    "hours = minutes / 60\n",
    "hours\n",
    "\n",
    "\n",
    "python\n",
    "# Listing objectives\n",
    "objectives = [\"Understand data science tools\", \"Learn different programming languages\", \"Explore data science libraries\"]\n",
    "for objective in objectives:\n",
    "    print(objective)\n",
    "\n",
    "\n",
    "markdown\n",
    "## Author\n",
    "John Doe\n",
    "\n",
    "\n"
   ]
  },
  {
   "cell_type": "code",
   "execution_count": null,
   "metadata": {},
   "outputs": [],
   "source": []
  },
  {
   "cell_type": "code",
   "execution_count": null,
   "metadata": {},
   "outputs": [],
   "source": []
  },
  {
   "cell_type": "code",
   "execution_count": null,
   "metadata": {},
   "outputs": [],
   "source": []
  }
 ],
 "metadata": {
  "kernelspec": {
   "display_name": "Python",
   "language": "python",
   "name": "conda-env-python-py"
  },
  "language_info": {
   "codemirror_mode": {
    "name": "ipython",
    "version": 3
   },
   "file_extension": ".py",
   "mimetype": "text/x-python",
   "name": "python",
   "nbconvert_exporter": "python",
   "pygments_lexer": "ipython3",
   "version": "3.7.12"
  }
 },
 "nbformat": 4,
 "nbformat_minor": 4
}
